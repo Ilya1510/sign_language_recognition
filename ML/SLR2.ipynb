{
 "cells": [
  {
   "cell_type": "code",
   "execution_count": 3,
   "metadata": {},
   "outputs": [],
   "source": [
    "from skimage import data, io, filters\n",
    "from skimage.transform import rescale\n",
    "from skimage.color import rgb2gray\n",
    "from skimage.feature import hog \n",
    "from skimage.transform import resize\n",
    "\n",
    "import pickle\n",
    "import random\n",
    "import csv\n",
    "from os import listdir\n",
    "from os.path import isfile, join\n",
    "\n",
    "from sklearn.ensemble import  RandomForestClassifier\n",
    "from sklearn.preprocessing import LabelEncoder\n",
    "from sklearn.svm import LinearSVC\n",
    "from sklearn.naive_bayes import MultinomialNB,GaussianNB\n",
    "from sklearn.linear_model import LogisticRegression\n",
    "from sklearn.svm import SVC"
   ]
  },
  {
   "cell_type": "code",
   "execution_count": 4,
   "metadata": {
    "collapsed": true
   },
   "outputs": [],
   "source": [
    "import pandas as pd\n",
    "import numpy as np\n",
    "import cv2\n",
    "import matplotlib.pyplot as plt\n",
    "import matplotlib.image as mpi\n",
    "%matplotlib inline"
   ]
  },
  {
   "cell_type": "code",
   "execution_count": 5,
   "metadata": {
    "collapsed": true
   },
   "outputs": [],
   "source": [
    "import glob\n",
    "import tqdm\n",
    "from copy import copy"
   ]
  },
  {
   "cell_type": "code",
   "execution_count": 92,
   "metadata": {
    "collapsed": true
   },
   "outputs": [],
   "source": [
    "speakers1 = ['A', 'B', 'C', 'D', 'E']\n",
    "speakers2 = ['user_3', 'user_4', 'user_5', 'user_6', 'user_7', 'user_9', 'user_10']\n",
    "letters = ['a', 'c', 'h', 'v', 'y']"
   ]
  },
  {
   "cell_type": "code",
   "execution_count": 7,
   "metadata": {
    "collapsed": true
   },
   "outputs": [],
   "source": [
    "#utility funtcion to compute area of overlap\n",
    "def overlapping_area(detection_1, detection_2):\n",
    "    x1_tl = detection_1[0]\n",
    "    x2_tl = detection_2[0]\n",
    "    x1_br = detection_1[0] + detection_1[3]\n",
    "    x2_br = detection_2[0] + detection_2[3]\n",
    "    y1_tl = detection_1[1]\n",
    "    y2_tl = detection_2[1]\n",
    "    y1_br = detection_1[1] + detection_1[4]\n",
    "    y2_br = detection_2[1] + detection_2[4]\n",
    "    # Calculate the overlapping Area\n",
    "    x_overlap = max(0, min(x1_br, x2_br)-max(x1_tl, x2_tl))\n",
    "    y_overlap = max(0, min(y1_br, y2_br)-max(y1_tl, y2_tl))\n",
    "    overlap_area = x_overlap * y_overlap\n",
    "    area_1 = detection_1[3] * detection_2[4]\n",
    "    area_2 = detection_2[3] * detection_2[4]\n",
    "    total_area = area_1 + area_2 - overlap_area\n",
    "    return overlap_area / float(total_area)"
   ]
  },
  {
   "cell_type": "code",
   "execution_count": 8,
   "metadata": {
    "collapsed": true
   },
   "outputs": [],
   "source": [
    "#given a list of filenames return s a dictionary of images \n",
    "def getfiles(filenames):\n",
    "    dir_files = {}\n",
    "    for x in filenames:\n",
    "        dir_files[x] = io.imread(x)\n",
    "    return dir_files\n",
    "\n",
    "#save classifier\n",
    "def dumpclassifier(filename,model):\n",
    "    with open(filename, 'wb') as fid:\n",
    "        pickle.dump(model, fid) \n",
    "        \n",
    "#load classifier\n",
    "def loadClassifier(picklefile):\n",
    "    fd = open(picklefile, 'r+')\n",
    "    model = pickle.load(fd)\n",
    "    fd.close()\n",
    "    return model"
   ]
  },
  {
   "cell_type": "code",
   "execution_count": 9,
   "metadata": {
    "collapsed": true
   },
   "outputs": [],
   "source": [
    "#return hog of a particular image vector\n",
    "def convertToGrayToHOG(imgVector):\n",
    "    rgbImage = rgb2gray(imgVector)\n",
    "    return hog(rgbImage, block_norm='L2-Hys')\n",
    "\n",
    "#takes returns cropped image \n",
    "def crop(img,x1,x2,y1,y2):\n",
    "    crp = img[y1 : y2, x1 : x2]\n",
    "    crp = resize(crp, ((128,128)), mode='constant')#resize\n",
    "    return crp"
   ]
  },
  {
   "cell_type": "code",
   "execution_count": 44,
   "metadata": {
    "collapsed": true
   },
   "outputs": [],
   "source": [
    "from collections import defaultdict\n",
    "\"\"\"\n",
    "This function randomly generates bounding boxes \n",
    "Return: hog vector of those cropped bounding boxes along with label \n",
    "Label : 1 if hand ,0 otherwise \n",
    "\"\"\"\n",
    "def buildhandnothand_lis(frame, imgset):\n",
    "    poslis =[]\n",
    "    neglis =[]\n",
    "    for nameimg in frame.image:\n",
    "        tupl = frame[frame['image']==nameimg].values[0]\n",
    "        x_tl = tupl[1]\n",
    "        y_tl = tupl[2]\n",
    "        side = tupl[5]\n",
    "        conf = 0\n",
    "        nameimg = 'dataset2/' + nameimg\n",
    "\n",
    "        \n",
    "        dic = [0, 0]\n",
    "        \n",
    "        arg1 = [x_tl, y_tl, conf, side, side]\n",
    "        poslis.append(convertToGrayToHOG(crop(imgset[nameimg], x_tl, x_tl + side, y_tl, y_tl + side)))\n",
    "        while dic[0] <= 1 or dic[1] < 1:\n",
    "            x = random.randint(0, 320 - side)\n",
    "            y = random.randint(0, 240 - side) \n",
    "            crp = crop(imgset[nameimg], x, x + side, y, y + side)\n",
    "            hogv = convertToGrayToHOG(crp)\n",
    "            arg2 = [x, y, conf, side, side]\n",
    "            \n",
    "            z = overlapping_area(arg1,arg2)\n",
    "            if dic[0] <= 1 and z <= 0.5:\n",
    "                neglis.append(hogv)\n",
    "                dic[0] += 1\n",
    "            if dic[0] == 1:\n",
    "                break\n",
    "    label_1 = [1 for i in range(0,len(poslis))]\n",
    "    label_0 = [0 for i in range(0,len(neglis))]\n",
    "    label_1.extend(label_0)\n",
    "    poslis.extend(neglis)\n",
    "    return poslis, label_1"
   ]
  },
  {
   "cell_type": "markdown",
   "metadata": {},
   "source": [
    "def train_binary(train_list):\n",
    "    frame = pd.DataFrame()\n",
    "    list_ = []\n",
    "    for user in train_list:\n",
    "        print(user)\n",
    "        list_.append(pd.read_csv('dataset2/' + \n",
    "                                 user + '/' + user + '_loc.csv', index_col=None, header=0))\n",
    "    frame = pd.concat(list_)\n",
    "    frame['side']=frame['bottom_right_x']-frame['top_left_x']\n",
    "    frame['hand']=1\n",
    "    #df = pd.DataFrame(buildhandnothand(frame,im),columns=['image','top_left_x','top_left_y','bottom_right_x','bottom_right_y','side','hand'])\n",
    "    #fin = pd.concat([df,frame])\n",
    "    print(frame.image.unique())\n",
    "    imageset = getfiles(['dataset2/'+ user + x[6 if x[6] == '/' else 7:] for x in frame.image.unique()])\n",
    "    frame['image'] = [user + q[6 if q[6] == '/' else 7:] for q in frame.image]\n",
    "    frame = frame[frame.isinset == 1]\n",
    "    return imageset, [user + q[6 if q[6] == '/' else 7:] for q in frame.image]\n",
    "    #returns actual images and dataframe"
   ]
  },
  {
   "cell_type": "code",
   "execution_count": 90,
   "metadata": {
    "collapsed": true
   },
   "outputs": [],
   "source": [
    "def train_binary(train_list):\n",
    "    frame = pd.DataFrame()\n",
    "    list_ = []\n",
    "    for user in train_list:\n",
    "        print(user)\n",
    "        list_.append(pd.read_csv('dataset2/' + \n",
    "                                 user + '/' + user + '_loc.csv', index_col=None, header=0))\n",
    "    frame = pd.concat(list_)\n",
    "    frame['side']=frame['bottom_right_x']-frame['top_left_x']\n",
    "    frame['hand']=1\n",
    "    #df = pd.DataFrame(buildhandnothand(frame,im),columns=['image','top_left_x','top_left_y','bottom_right_x','bottom_right_y','side','hand'])\n",
    "    #fin = pd.concat([df,frame])\n",
    "    print(frame.image.unique())\n",
    "    imageset = getfiles(['dataset2/' + x for x in frame.image.unique()])\n",
    "\n",
    "    return imageset, frame\n",
    "    #returns actual images and dataframe\n",
    "\n",
    "def load_binary_data(user_list):\n",
    "    data1, df  = train_binary(user_list)\n",
    "    #data 1 == actual images , df is sankets bounding box, third return is dataframe\n",
    "    z = buildhandnothand_lis(df, data1)\n",
    "    return data1, df, z[0], z[1]"
   ]
  },
  {
   "cell_type": "code",
   "execution_count": 95,
   "metadata": {},
   "outputs": [
    {
     "name": "stdout",
     "output_type": "stream",
     "text": [
      "user_3\n",
      "user_4\n",
      "user_5\n",
      "user_6\n",
      "user_7\n",
      "user_9\n",
      "user_10\n",
      "['user_3/A0.jpg' 'user_3/A1.jpg' 'user_3/A2.jpg' ..., 'user_10/Y7.jpg'\n",
      " 'user_10/Y8.jpg' 'user_10/Y9.jpg']\n"
     ]
    }
   ],
   "source": [
    "imageset, boundbox, hog_list, label_list = load_binary_data(speakers2)"
   ]
  },
  {
   "cell_type": "code",
   "execution_count": 96,
   "metadata": {},
   "outputs": [
    {
     "name": "stdout",
     "output_type": "stream",
     "text": [
      "1680 1680 3360 3360\n"
     ]
    }
   ],
   "source": [
    "print(len(imageset), len(boundbox), len(hog_list), len(label_list))\n"
   ]
  },
  {
   "cell_type": "code",
   "execution_count": null,
   "metadata": {
    "collapsed": true
   },
   "outputs": [],
   "source": []
  },
  {
   "cell_type": "code",
   "execution_count": null,
   "metadata": {
    "collapsed": true
   },
   "outputs": [],
   "source": []
  },
  {
   "cell_type": "code",
   "execution_count": null,
   "metadata": {
    "collapsed": true
   },
   "outputs": [],
   "source": []
  },
  {
   "cell_type": "code",
   "execution_count": null,
   "metadata": {
    "collapsed": true
   },
   "outputs": [],
   "source": []
  },
  {
   "cell_type": "code",
   "execution_count": 98,
   "metadata": {},
   "outputs": [
    {
     "data": {
      "text/plain": [
       "array([0, 1])"
      ]
     },
     "execution_count": 98,
     "metadata": {},
     "output_type": "execute_result"
    }
   ],
   "source": [
    "np.unique(label_list)"
   ]
  },
  {
   "cell_type": "code",
   "execution_count": 77,
   "metadata": {},
   "outputs": [
    {
     "data": {
      "text/plain": [
       "<matplotlib.image.AxesImage at 0x7ffb844b00f0>"
      ]
     },
     "execution_count": 77,
     "metadata": {},
     "output_type": "execute_result"
    },
    {
     "data": {
      "image/png": "[encoded data removed]",
      "text/plain": [
       "<matplotlib.figure.Figure at 0x7ffb84cf9630>"
      ]
     },
     "metadata": {},
     "output_type": "display_data"
    }
   ],
   "source": [
    "plt.imshow(imageset['dataset2/G/A2.jpg'])"
   ]
  },
  {
   "cell_type": "markdown",
   "metadata": {},
   "source": [
    "# Binary classification, hand / not hand"
   ]
  },
  {
   "cell_type": "code",
   "execution_count": 99,
   "metadata": {
    "collapsed": true
   },
   "outputs": [],
   "source": [
    "from sklearn.model_selection import train_test_split\n",
    "X_b_train, X_b_test, y_b_train, y_b_test = train_test_split(hog_list, label_list, test_size = 0.2)"
   ]
  },
  {
   "cell_type": "code",
   "execution_count": 100,
   "metadata": {
    "collapsed": true
   },
   "outputs": [],
   "source": [
    "from sklearn.svm import SVC\n",
    "from sklearn.decomposition import PCA\n",
    "from sklearn.metrics import accuracy_score\n",
    "\n",
    "def fit_pca(X, n_comp):\n",
    "    pca = PCA(n_components=n_comp)\n",
    "    return pca.fit(X)\n",
    "\n",
    "def fit_svm(X, y, C, gamma):\n",
    "    svm = SVC(C = C, random_state=241, gamma=gamma, probability=True)\n",
    "    return svm.fit(X, y)\n",
    "\n",
    "def fit_pca_svm(X, y, n_comp=100, C = 2, gamma=0.0001):\n",
    "    pca = fit_pca(X, n_comp=n_comp)\n",
    "    smv = fit_svm(pca.transform(X), y, C = C, gamma=gamma)\n",
    "    return (pca, svm)\n",
    "\n",
    "def fit_get_score_pca_svm(X, y, X_test, y_test, n_comp, C, gamma):\n",
    "    pca = fit_pca(X, n_comp=n_comp)\n",
    "    X_tr = pca.transform(X)\n",
    "    X_test_tr = pca.transform(X_test)\n",
    "    print(pca.explained_variance_ratio_[:min(n_comp, 20)])\n",
    "    \n",
    "    svm = fit_svm(X_tr, y, C = C, gamma = gamma)\n",
    "    print(svm)\n",
    "    print('support vectors count:', len(svm.support_))\n",
    "    print('train score:', accuracy_score(y, svm.predict(X_tr)))\n",
    "    print('test score:', accuracy_score(y_test, svm.predict(X_test_tr)))\n",
    "    \n",
    "    return (pca, svm)\n",
    "\n",
    "def get_score_pca_svm(pca, svm, X, y):\n",
    "    X_tr = pca.transform(X)\n",
    "    y_pred = svm.predict(X_tr)\n",
    "    return accuracy_score(y, y_pred)"
   ]
  },
  {
   "cell_type": "code",
   "execution_count": 101,
   "metadata": {},
   "outputs": [
    {
     "name": "stdout",
     "output_type": "stream",
     "text": [
      "[ 0.18860039  0.08082525  0.0506991   0.03916187  0.03361685  0.02740724\n",
      "  0.02308499  0.0201231   0.01679397  0.01605295  0.01182113  0.01023886\n",
      "  0.0097596   0.00892135  0.00851866  0.008131    0.0075423   0.00673103\n",
      "  0.00605303  0.00548398]\n",
      "SVC(C=2, cache_size=200, class_weight=None, coef0=0.0,\n",
      "  decision_function_shape='ovr', degree=3, gamma=1.15e-06, kernel='rbf',\n",
      "  max_iter=-1, probability=True, random_state=241, shrinking=True,\n",
      "  tol=0.001, verbose=False)\n",
      "support vectors count: 1328\n",
      "train score: 0.986979166667\n",
      "test score: 0.959821428571\n"
     ]
    }
   ],
   "source": [
    "pca1, svm1 = fit_get_score_pca_svm(X_b_train, y_b_train, X_b_test, y_b_test, n_comp=500, C = 2, gamma=0.00000115)"
   ]
  },
  {
   "cell_type": "markdown",
   "metadata": {
    "collapsed": true
   },
   "source": [
    "letters = {}\n",
    "from string import ascii_lowercase\n",
    "for c in ascii_lowercase:\n",
    "    letters[c] = c;\n",
    "del letters['j']\n",
    "del letters['z']\n",
    "letters = sorted(list(letters))\n",
    "LETTERS_TO_ANALYSE = 5"
   ]
  },
  {
   "cell_type": "code",
   "execution_count": null,
   "metadata": {
    "collapsed": true
   },
   "outputs": [],
   "source": []
  },
  {
   "cell_type": "code",
   "execution_count": null,
   "metadata": {
    "collapsed": true
   },
   "outputs": [],
   "source": []
  },
  {
   "cell_type": "code",
   "execution_count": 102,
   "metadata": {
    "collapsed": true
   },
   "outputs": [],
   "source": [
    "\n",
    "# Returns the tuple with the highest prediction probability of hand\n",
    "def image_pyramid_step(pca, svm, img, scale=1.0):\n",
    "    max_confidence_seen = -1\n",
    "    rescaled_img = rescale(img, scale, mode='constant')\n",
    "    detected_box = []\n",
    "    side = 128\n",
    "    x_border = rescaled_img.shape[1]\n",
    "    y_border = rescaled_img.shape[0]\n",
    " \n",
    "    for x in range(0, x_border - side, 32):\n",
    "        for y in range(0, y_border - side, 24):\n",
    "            cropped_img = crop(rescaled_img, x, x + side, y, y + side)\n",
    "            hogvector = convertToGrayToHOG(cropped_img)\n",
    "            \n",
    "            pca_features = pca.transform(hogvector.reshape((1, hogvector.shape[0])))\n",
    "            confidence = svm.predict_proba(pca_features.reshape((1, pca_features.shape[1])))\n",
    "            \n",
    "            if confidence[0][1] > max_confidence_seen:\n",
    "                detected_box = [x, y, confidence[0][1], scale]\n",
    "                max_confidence_seen = confidence[0][1]\n",
    "\n",
    "    return detected_box"
   ]
  },
  {
   "cell_type": "code",
   "execution_count": 103,
   "metadata": {
    "collapsed": true
   },
   "outputs": [],
   "source": [
    "## format [x,y,confidence,side ,side]\n",
    "# [x1,y1,x2,y2]\n",
    "# Malisiewicz et al.\n",
    "def non_max_suppression_fast(boxes, overlapThresh):\n",
    "    # if there are no boxes, return an empty list\n",
    "    if len(boxes) == 0:\n",
    "        return []\n",
    " \n",
    "    # if the bounding boxes integers, convert them to floats --\n",
    "    # this is important since we'll be doing a bunch of divisions\n",
    "    if boxes.dtype.kind == \"i\":\n",
    "        boxes = boxes.astype(\"float\")\n",
    " \n",
    "    # initialize the list of picked indexes\t\n",
    "    pick = []\n",
    "\n",
    "    # grab the coordinates of the bounding boxes\n",
    "    x1 = boxes[:,0]\n",
    "    y1 = boxes[:,1]\n",
    "    x2 = boxes[:,2]\n",
    "    y2 = boxes[:,3]\n",
    "    s = boxes[:,4]\n",
    "    # compute the area of the bounding boxes and sort the bounding\n",
    "    # boxes by the bottom-right y-coordinate of the bounding box\n",
    "    area = (x2 - x1 + 1) * (y2 - y1 + 1)\n",
    "    idxs = np.argsort(s)\n",
    "\n",
    "    # keep looping while some indexes still remain in the indexes\n",
    "    # list\n",
    "    while len(idxs) > 0:\n",
    "        # grab the last index in the indexes list and add the\n",
    "        # index value to the list of picked indexes\n",
    "        last = len(idxs) - 1\n",
    "        i = idxs[last]\n",
    "        pick.append(i)\n",
    "\n",
    "        # find the largest (x, y) coordinates for the start of\n",
    "        # the bounding box and the smallest (x, y) coordinates\n",
    "        # for the end of the bounding box\n",
    "        xx1 = np.maximum(x1[i], x1[idxs[:last]])\n",
    "        yy1 = np.maximum(y1[i], y1[idxs[:last]])\n",
    "        xx2 = np.minimum(x2[i], x2[idxs[:last]])\n",
    "        yy2 = np.minimum(y2[i], y2[idxs[:last]])\n",
    "\n",
    "        # compute the width and height of the bounding box\n",
    "        w = np.maximum(0, xx2 - xx1 + 1)\n",
    "        h = np.maximum(0, yy2 - yy1 + 1)\n",
    "\n",
    "        # compute the ratio of overlap\n",
    "        overlap = (w * h) / area[idxs[:last]]\n",
    "\n",
    "        # delete all indexes from the index list that have\n",
    "        idxs = np.delete(idxs, np.concatenate(([last],\n",
    "            np.where(overlap > overlapThresh)[0])))\n",
    "\n",
    "    # return only the bounding boxes that were picked using the\n",
    "    # integer data type\n",
    "    return boxes[pick].astype(\"int\")"
   ]
  },
  {
   "cell_type": "code",
   "execution_count": 104,
   "metadata": {
    "collapsed": true
   },
   "outputs": [],
   "source": [
    "def find_hand_on_picture(pca, svm, image):\n",
    "    \"\"\"\n",
    "        image : a 320x240 pixel RGB image in the form of a numpy array\n",
    "        This function should locate the hand\n",
    "        position : a tuple of (x1,y1,x2,y2) coordinates of bounding box\n",
    "            x1,y1 is top left corner, x2,y2 is bottom right\n",
    "    \"\"\"\n",
    "    # print \"In recognize_gesture\"\n",
    "    scales = [1.5, 1.25, 1, 0.75, 0.6]\n",
    "\n",
    "    detectedBoxes = [] ## [x, y, conf, scale]\n",
    "    for sc in scales:\n",
    "        detectedBoxes.append(image_pyramid_step(pca, svm, image, scale=sc))\n",
    "\n",
    "    side = [0 for i in range(len(scales))]\n",
    "    for i in range(len(scales)):\n",
    "        side[i]= 128 / scales[i]\n",
    "\n",
    "    for i in range(len(detectedBoxes)):\n",
    "        detectedBoxes[i][0]=detectedBoxes[i][0] / scales[i] #x\n",
    "        detectedBoxes[i][1]=detectedBoxes[i][1] / scales[i] #y\n",
    "\n",
    "    nms_lis = [] #[x1, x2, y1, y2]\n",
    "    for i in range(len(detectedBoxes)):\n",
    "        nms_lis.append([detectedBoxes[i][0],detectedBoxes[i][1],\n",
    "                        detectedBoxes[i][0]+side[i],detectedBoxes[i][1]+side[i],detectedBoxes[i][2]])\n",
    "    nms_lis = np.array(nms_lis)\n",
    "\n",
    "    res = non_max_suppression_fast(nms_lis,0.4)\n",
    "\n",
    "    output_det = res[0]\n",
    "    x_top = output_det[0]\n",
    "    y_top = output_det[1]\n",
    "    side = output_det[2]-output_det[0]\n",
    "    position = [x_top, y_top, x_top+side, y_top+side]\n",
    "\n",
    "    croppedImage = crop(image, x_top, x_top+side, y_top, y_top+side)\n",
    "    hogvec = convertToGrayToHOG(croppedImage)\n",
    "\n",
    "    return croppedImage, hogvec"
   ]
  },
  {
   "cell_type": "code",
   "execution_count": null,
   "metadata": {
    "collapsed": true
   },
   "outputs": [],
   "source": []
  },
  {
   "cell_type": "code",
   "execution_count": 109,
   "metadata": {
    "collapsed": true
   },
   "outputs": [],
   "source": [
    "#loads data for multiclass \n",
    "def get_data(user_list, img_dict, data_directory):\n",
    "    X = []\n",
    "    Y = []\n",
    "    for user in user_list:\n",
    "        user_images = glob.glob(data_directory+user+'/*.jpg')\n",
    "\n",
    "        boundingbox_df = pd.read_csv(data_directory+user+'/'+user+'_loc.csv')\n",
    "        \n",
    "        for rows in boundingbox_df.iterrows():\n",
    "            cropped_img = crop(img_dict['dataset2/' + rows[1]['image']], rows[1]['top_left_x'], \n",
    "                               rows[1]['bottom_right_x'], rows[1]['top_left_y'], rows[1]['bottom_right_y'])\n",
    "            hogvector = convertToGrayToHOG(cropped_img)\n",
    "            X.append(hogvector.tolist())\n",
    "            Y.append(rows[1]['image'].split('/')[1][0])\n",
    "    return X, Y"
   ]
  },
  {
   "cell_type": "code",
   "execution_count": 110,
   "metadata": {},
   "outputs": [
    {
     "name": "stdout",
     "output_type": "stream",
     "text": [
      "CPU times: user 29.8 s, sys: 39.1 s, total: 1min 8s\n",
      "Wall time: 23.4 s\n"
     ]
    }
   ],
   "source": [
    "%%time\n",
    "X_mul,Y_mul = get_data(speakers2, imageset, 'dataset2/')"
   ]
  },
  {
   "cell_type": "code",
   "execution_count": 112,
   "metadata": {},
   "outputs": [],
   "source": [
    "X_mul = np.array(X_mul)"
   ]
  },
  {
   "cell_type": "code",
   "execution_count": 117,
   "metadata": {},
   "outputs": [],
   "source": [
    "x_mul, y_mul = [], []"
   ]
  },
  {
   "cell_type": "code",
   "execution_count": 118,
   "metadata": {
    "collapsed": true
   },
   "outputs": [],
   "source": [
    "for xx, yy in zip(X_mul, Y_mul):\n",
    "    if (yy.lower() in letters):\n",
    "        x_mul.append(xx)\n",
    "        y_mul.append(yy)"
   ]
  },
  {
   "cell_type": "code",
   "execution_count": 119,
   "metadata": {},
   "outputs": [
    {
     "data": {
      "text/plain": [
       "(350, 15876)"
      ]
     },
     "execution_count": 119,
     "metadata": {},
     "output_type": "execute_result"
    }
   ],
   "source": [
    "x_mul = np.array(x_mul)\n",
    "y_mul = np.array(y_mul)\n",
    "x_mul.shape"
   ]
  },
  {
   "cell_type": "code",
   "execution_count": 120,
   "metadata": {
    "collapsed": true
   },
   "outputs": [],
   "source": [
    "dumpclassifier('pca_is_hand', pca1)"
   ]
  },
  {
   "cell_type": "code",
   "execution_count": 121,
   "metadata": {
    "collapsed": true
   },
   "outputs": [],
   "source": [
    "dumpclassifier('svm_is_hand', svm1)"
   ]
  },
  {
   "cell_type": "code",
   "execution_count": null,
   "metadata": {
    "collapsed": true
   },
   "outputs": [],
   "source": []
  },
  {
   "cell_type": "code",
   "execution_count": null,
   "metadata": {
    "collapsed": true
   },
   "outputs": [],
   "source": []
  },
  {
   "cell_type": "code",
   "execution_count": 200,
   "metadata": {
    "collapsed": true
   },
   "outputs": [],
   "source": [
    "def convert_size_for_dataset1(image):\n",
    "    h = image.shape[0]\n",
    "    w = image.shape[1]\n",
    "    if h > w:\n",
    "        if (w/h > 0.8):\n",
    "            k = int((h - w) / 2)\n",
    "            image = image[k:-k-1, :]\n",
    "        else:\n",
    "            image = image[int(0.1*h): -int(0.1*h)-1, :]\n",
    "    if h < w:\n",
    "        if (h/w > 0.8):\n",
    "            k = int((w - h) / 2)\n",
    "            image = image[:, k:-k-1]\n",
    "        else:\n",
    "            image = image[:, int(0.1*h): -int(0.1*h)-1]\n",
    "    image = cv2.resize(image, (128, 128))"
   ]
  },
  {
   "cell_type": "code",
   "execution_count": 201,
   "metadata": {
    "collapsed": true
   },
   "outputs": [],
   "source": [
    "def collectImages_for_dataset1(letter):\n",
    "    speakers = ['A', 'B', 'C', 'D', 'E']\n",
    "    path = 'dataset1/'\n",
    "    data = []\n",
    "    for s in speakers:\n",
    "        image_path = path + s + '/' + letter + '/'\n",
    "        names = glob.glob(image_path + \"*.*\")\n",
    "        for name in names:\n",
    "            image = cv2.imread(name)\n",
    "            image = cv2.cvtColor(image, cv2.COLOR_BGR2RGB)\n",
    "            image = convert_size_for_dataset1(image)\n",
    "            data.append(image)\n",
    "    return data"
   ]
  },
  {
   "cell_type": "markdown",
   "metadata": {
    "collapsed": true
   },
   "source": [
    "def precountSize(letters):\n",
    "    speakers = ['A', 'B', 'C', 'D', 'E']\n",
    "    result = 0\n",
    "    for l in letters:\n",
    "        for s in speakers:\n",
    "            image_path = 'dataset1/' + s + '/' + l + '/'\n",
    "            names = glob.glob(image_path + \"*.*\")\n",
    "            result += len(names)\n",
    "    return result"
   ]
  },
  {
   "cell_type": "code",
   "execution_count": 167,
   "metadata": {
    "collapsed": true
   },
   "outputs": [],
   "source": [
    "hog_descriptor = cv2.HOGDescriptor((128, 128), #winsize\n",
    "                                    (16, 16), #blocksize\n",
    "                                    (8, 8), #blockstride\n",
    "                                    (8, 8),   #cellsize\n",
    "                                    9)        #nbins\n",
    "HOGSIZE = 8100"
   ]
  },
  {
   "cell_type": "code",
   "execution_count": 202,
   "metadata": {
    "collapsed": true
   },
   "outputs": [],
   "source": [
    "def collect_from_datasets(letters):\n",
    "    X = []\n",
    "    Y = []\n",
    "    cur = 0\n",
    "    for letter in letters:\n",
    "        data1 = collectImages_for_dataset1(letter)    \n",
    "        for Im in data1:\n",
    "            if hog:\n",
    "                X.append(hog_descriptor.compute(Im))\n",
    "            else:\n",
    "                X.append(Im)\n",
    "            Y.append(ord(letter) - ord('a'))\n",
    "        data2 = collectImages_for_dataset2(letter) \n",
    "        for Im in data2:\n",
    "            if hog:\n",
    "                X.append(hog_descriptor.compute(Im))\n",
    "            else:\n",
    "                X.append(Im)\n",
    "            Y.append(ord(letter) - ord('a'))\n",
    "    X = np.array(X)\n",
    "    Y = np.array(Y)\n",
    "    random_order = np.random.permutation(X.shape[0])\n",
    "    x_shuffle = []\n",
    "    y_shuffle = []\n",
    "    for i in random_order:\n",
    "        x_shuffle.append(X[i])\n",
    "        y_shuffle.append(Y[i])\n",
    "    X = np.array(x_shuffle) \n",
    "    Y = np.array(y_shuffle)\n",
    "    X = X.reshape((X.shape[0], X.shape[1]))\n",
    "    Y = Y.reshape((Y.shape[0]))\n",
    "    split = int(round(0.2 * len(Y)))\n",
    "    x_train = X[split:]\n",
    "    y_train = Y[split:]\n",
    "    x_test = X[:split]\n",
    "    y_test = Y[:split]\n",
    "    del x_shuffle\n",
    "    del y_shuffle\n",
    "    return x_train, y_train, x_test, y_test"
   ]
  },
  {
   "cell_type": "markdown",
   "metadata": {
    "collapsed": true
   },
   "source": [
    "def filter_other_data(X, Y):\n",
    "    X_filter, y_filter = [], []\n",
    "    for x, y in zip(X, Y):\n",
    "        y_lower = y.lower()\n",
    "        if (y_lower in ['a', 'b', 'c', 'v']):\n",
    "            X_filter.append(x)\n",
    "            y_filter.append(y_lower)\n",
    "    return X_filter, y_filter"
   ]
  },
  {
   "cell_type": "code",
   "execution_count": 172,
   "metadata": {
    "collapsed": true
   },
   "outputs": [],
   "source": [
    "def clear_background_precise(image):\n",
    "    imghsv = cv2.cvtColor(image,cv2.COLOR_BGR2HSV)\n",
    "    filter_from = np.array([110,80,80])\n",
    "    filter_to = np.array([150,255,255])\n",
    "    filtered = cv2.inRange(imghsv, filter_from, filter_to)\n",
    "    kernel_square = np.ones((8,8),np.uint8)\n",
    "    kernel_ellipse= cv2.getStructuringElement(cv2.MORPH_ELLIPSE,(5,5))\n",
    "    dilation = cv2.dilate(filtered,kernel_ellipse,iterations = 1)\n",
    "    erosion = cv2.erode(dilation,kernel_square,iterations = 1)    \n",
    "    dilation2 = cv2.dilate(erosion,kernel_ellipse,iterations = 1)    \n",
    "    filtered = cv2.medianBlur(dilation2,5)\n",
    "    kernel_ellipse= cv2.getStructuringElement(cv2.MORPH_ELLIPSE,(8,8))\n",
    "    dilation3 = cv2.dilate(filtered,kernel_ellipse,iterations = 1)\n",
    "    kernel_ellipse= cv2.getStructuringElement(cv2.MORPH_ELLIPSE,(5,5))\n",
    "    dilation4 = cv2.dilate(filtered,kernel_ellipse,iterations = 1)\n",
    "    median = cv2.medianBlur(dilation4,5)\n",
    "    ret,final = cv2.threshold(median,127,255,0)\n",
    "    #-------\n",
    "    BLACK = (0, 0, 0)\n",
    "    for i in range(final.shape[0]):\n",
    "        final[i][0] = 0\n",
    "        final[i][final.shape[1] - 1] = 0\n",
    "    for i in range(final.shape[1]):\n",
    "        final[0][i] = 0\n",
    "        final[final.shape[0] - 1][i] = 0\n",
    "    im2, contours, hierarchy = cv2.findContours(copy(final),cv2.RETR_TREE,cv2.CHAIN_APPROX_SIMPLE)\n",
    "    max_area = 0\n",
    "    num = 0\n",
    "    for i in range(len(contours)):\n",
    "        cnt = contours[i]\n",
    "        area = cv2.contourArea(cnt)\n",
    "        if(area > max_area):\n",
    "            max_area = area\n",
    "            num = i  \n",
    "    maxcnt = contours[num]\n",
    "    contours[num] = np.empty((0, 1, 2))\n",
    "    cv2.drawContours(final, contours, -1, BLACK, -1)\n",
    "    #----------------------\n",
    "    for i in range(image.shape[0]):\n",
    "        for j in range(image.shape[1]):\n",
    "            if not final[i][j]:\n",
    "                image[i][j] = BLACK\n",
    "    return image"
   ]
  },
  {
   "cell_type": "code",
   "execution_count": 173,
   "metadata": {
    "collapsed": true
   },
   "outputs": [],
   "source": [
    "def clear_background_rough(image):\n",
    "    imghsv = cv2.cvtColor(image,cv2.COLOR_BGR2HSV)\n",
    "    filter_from = np.array([110,80,80])\n",
    "    filter_to = np.array([150,255,255])\n",
    "    filtered = cv2.inRange(imghsv, filter_from, filter_to)\n",
    "    kernel_square = np.ones((8,8),np.uint8)\n",
    "    kernel_ellipse= cv2.getStructuringElement(cv2.MORPH_ELLIPSE,(5,5))\n",
    "    dilation = cv2.dilate(filtered,kernel_ellipse,iterations = 1)\n",
    "    erosion = cv2.erode(dilation,kernel_square,iterations = 1)    \n",
    "    dilation2 = cv2.dilate(erosion,kernel_ellipse,iterations = 1)    \n",
    "    filtered = cv2.medianBlur(dilation2,5)\n",
    "    kernel_ellipse= cv2.getStructuringElement(cv2.MORPH_ELLIPSE,(8,8))\n",
    "    dilation3 = cv2.dilate(filtered,kernel_ellipse,iterations = 1)\n",
    "    kernel_ellipse= cv2.getStructuringElement(cv2.MORPH_ELLIPSE,(5,5))\n",
    "    dilation4 = cv2.dilate(filtered,kernel_ellipse,iterations = 1)\n",
    "    median = cv2.medianBlur(dilation4,5)\n",
    "    ret,final = cv2.threshold(median,127,255,0)\n",
    "    #-------\n",
    "    BLACK = (0, 0, 0)\n",
    "    for i in range(final.shape[0]):\n",
    "        final[i][0] = 0\n",
    "        final[i][final.shape[1] - 1] = 0\n",
    "    for i in range(final.shape[1]):\n",
    "        final[0][i] = 0\n",
    "        final[final.shape[0] - 1][i] = 0\n",
    "    im2, contours, hierarchy = cv2.findContours(copy(final),cv2.RETR_TREE,cv2.CHAIN_APPROX_SIMPLE)\n",
    "    max_area = 0\n",
    "    num = 0\n",
    "    for i in range(len(contours)):\n",
    "        cnt = contours[i]\n",
    "        area = cv2.contourArea(cnt)\n",
    "        if(area > max_area):\n",
    "            max_area = area\n",
    "            num = i  \n",
    "    maxcnt = contours[num]\n",
    "    contours[num] = np.empty((0, 1, 2))\n",
    "    cv2.drawContours(final, contours, -1, BLACK, -1)\n",
    "    #-----------------\n",
    "    hull = cv2.convexHull(maxcnt)\n",
    "    cv2.drawContours(final, [hull], -1, (255,255,255), -1)\n",
    "    #----------------------\n",
    "    for i in range(image.shape[0]):\n",
    "        for j in range(image.shape[1]):\n",
    "            if not final[i][j]:\n",
    "                image[i][j] = BLACK\n",
    "    return image"
   ]
  },
  {
   "cell_type": "code",
   "execution_count": null,
   "metadata": {
    "collapsed": true
   },
   "outputs": [],
   "source": [
    "pca, svm = fit_get_score_pca_svm(x_train, y_train, x_test, y_test, n_comp=100, gamma=0.1)"
   ]
  },
  {
   "cell_type": "code",
   "execution_count": 197,
   "metadata": {
    "collapsed": true
   },
   "outputs": [],
   "source": []
  },
  {
   "cell_type": "code",
   "execution_count": null,
   "metadata": {
    "collapsed": true
   },
   "outputs": [],
   "source": []
  }
 ],
 "metadata": {
  "kernelspec": {
   "display_name": "Python 3",
   "language": "python",
   "name": "python3"
  },
  "language_info": {
   "codemirror_mode": {
    "name": "ipython",
    "version": 3
   },
   "file_extension": ".py",
   "mimetype": "text/x-python",
   "name": "python",
   "nbconvert_exporter": "python",
   "pygments_lexer": "ipython3",
   "version": "3.5.2"
  }
 },
 "nbformat": 4,
 "nbformat_minor": 2
}
