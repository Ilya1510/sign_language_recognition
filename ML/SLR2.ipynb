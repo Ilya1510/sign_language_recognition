{
 "cells": [
  {
   "cell_type": "code",
   "execution_count": 160,
   "metadata": {
    "collapsed": true
   },
   "outputs": [],
   "source": [
    "from sklearn.svm import SVC\n",
    "from sklearn.decomposition import PCA\n",
    "from sklearn.metrics import accuracy_score"
   ]
  },
  {
   "cell_type": "code",
   "execution_count": 161,
   "metadata": {
    "collapsed": true
   },
   "outputs": [],
   "source": [
    "import numpy as np\n",
    "import cv2\n",
    "import matplotlib.pyplot as plt\n",
    "import matplotlib.image as mpi\n",
    "%matplotlib inline"
   ]
  },
  {
   "cell_type": "code",
   "execution_count": 162,
   "metadata": {
    "collapsed": true
   },
   "outputs": [],
   "source": [
    "import glob\n",
    "import tqdm\n",
    "from copy import copy"
   ]
  },
  {
   "cell_type": "code",
   "execution_count": 163,
   "metadata": {
    "collapsed": true
   },
   "outputs": [],
   "source": [
    "def fit_pca(X, n_comp):\n",
    "    pca = PCA(n_components=n_comp)\n",
    "    return pca.fit(X)\n",
    "\n",
    "def fit_svm(X, y, C, gamma):\n",
    "    svm = SVC(C = C, random_state=241, gamma=gamma)\n",
    "    return svm.fit(X, y)\n",
    "\n",
    "def fit_pca_svm(X, y, n_comp=100, C = 2, gamma=0.0001):\n",
    "    pca = fit_pca(X, n_comp=n_comp)\n",
    "    smv = fit_svm(pca.transform(X), y, C = C, gamma=gamma)\n",
    "    return (pca, svm)\n",
    "\n",
    "def fit_get_score_pca_svm(X, y, X_test, y_test, n_comp = 500, C = 2, gamma =0.001):\n",
    "    pca = fit_pca(X, n_comp=n_comp)\n",
    "    X_tr = pca.transform(X)\n",
    "    X_test_tr = pca.transform(X_test)\n",
    "    print(pca.explained_variance_ratio_[:min(n_comp, 20)])\n",
    "    \n",
    "    svm = fit_svm(X_tr, y, C = C, gamma = gamma)\n",
    "    print(svm)\n",
    "    print('support vectors count:', len(svm.support_))\n",
    "    print('train score:', accuracy_score(y, svm.predict(X_tr)))\n",
    "    print('test score:', accuracy_score(y_test, svm.predict(X_test_tr)))\n",
    "    \n",
    "    return (pca, svm)\n",
    "\n",
    "def get_score_pca_svm(pca, svm, X, y):\n",
    "    X_tr = pca.transform(X)\n",
    "    y_pred = svm.predict(X_tr)\n",
    "    print(y_pred)\n",
    "    print(accuracy_score(y_pred, [4 if y_o == 'v' else ord(y_o) - ord('a') for y_o in y]))\n",
    "    return accuracy_score(y, y_pred)"
   ]
  },
  {
   "cell_type": "markdown",
   "metadata": {
    "collapsed": true
   },
   "source": [
    "letters = {}\n",
    "from string import ascii_lowercase\n",
    "for c in ascii_lowercase:\n",
    "    letters[c] = c;\n",
    "del letters['j']\n",
    "del letters['z']\n",
    "letters = sorted(list(letters))\n",
    "LETTERS_TO_ANALYSE = 5"
   ]
  },
  {
   "cell_type": "code",
   "execution_count": 175,
   "metadata": {},
   "outputs": [],
   "source": [
    "def convert_size_for_dataset1(image):\n",
    "    h = image.shape[0]\n",
    "    w = image.shape[1]\n",
    "    if h > w:\n",
    "        if (w/h > 0.8):\n",
    "            k = int((h - w) / 2)\n",
    "            image = image[k:-k-1, :]\n",
    "        else:\n",
    "            image = image[int(0.1*h): -int(0.1*h)-1, :]\n",
    "    if h < w:\n",
    "        if (h/w > 0.8):\n",
    "            k = int((w - h) / 2)\n",
    "            image = image[:, k:-k-1]\n",
    "        else:\n",
    "            image = image[:, int(0.1*h): -int(0.1*h)-1]\n",
    "    image = cv2.resize(image, (128, 128))"
   ]
  },
  {
   "cell_type": "code",
   "execution_count": 199,
   "metadata": {
    "collapsed": true
   },
   "outputs": [],
   "source": [
    "def collectImages_for_dataset1(letter):\n",
    "    speakers = ['A', 'B', 'C', 'D', 'E']\n",
    "    path = 'dataset1/'\n",
    "    data = []\n",
    "    for s in speakers:\n",
    "        image_path = path + s + '/' + letter + '/'\n",
    "        names = glob.glob(image_path + \"*.*\")\n",
    "        for name in names:\n",
    "            image = cv2.imread(name)\n",
    "            image = cv2.cvtColor(image, cv2.COLOR_BGR2RGB)\n",
    "            image = convert_size_for_full_dataset(image)\n",
    "            data.append(image)\n",
    "    return data"
   ]
  },
  {
   "cell_type": "markdown",
   "metadata": {
    "collapsed": true
   },
   "source": [
    "def precountSize(letters):\n",
    "    speakers = ['A', 'B', 'C', 'D', 'E']\n",
    "    result = 0\n",
    "    for l in letters:\n",
    "        for s in speakers:\n",
    "            image_path = 'dataset1/' + s + '/' + l + '/'\n",
    "            names = glob.glob(image_path + \"*.*\")\n",
    "            result += len(names)\n",
    "    return result"
   ]
  },
  {
   "cell_type": "code",
   "execution_count": 167,
   "metadata": {
    "collapsed": true
   },
   "outputs": [],
   "source": [
    "hog_descriptor = cv2.HOGDescriptor((128, 128), #winsize\n",
    "                                    (16, 16), #blocksize\n",
    "                                    (8, 8), #blockstride\n",
    "                                    (8, 8),   #cellsize\n",
    "                                    9)        #nbins\n",
    "HOGSIZE = 8100"
   ]
  },
  {
   "cell_type": "code",
   "execution_count": 169,
   "metadata": {},
   "outputs": [],
   "source": [
    "def collect_from_datasets(letters):\n",
    "    X = []\n",
    "    Y = []\n",
    "    cur = 0\n",
    "    data1 = collectImages(letters)    \n",
    "    for Im in Ldata:\n",
    "        X.append(hog_descriptor.compute(Im))\n",
    "        Y.append(4 if i == 'v' else ord(i) - ord('a')) #need to replace\n",
    "        cur += 1\n",
    "    X = np.array(X)\n",
    "    Y = np.array(Y)\n",
    "    random_order = np.random.permutation(X.shape[0])\n",
    "    x_shuffle = []\n",
    "    y_shuffle = []\n",
    "    for i in random_order:\n",
    "        x_shuffle.append(X[i])\n",
    "        y_shuffle.append(Y[i])\n",
    "    X = np.array(x_shuffle) \n",
    "    Y = np.array(y_shuffle)\n",
    "    X = X.reshape((X.shape[0], X.shape[1]))\n",
    "    Y = Y.reshape((Y.shape[0]))\n",
    "    split = int(round(0.2*len(Y)))\n",
    "    x_train = X[split:]\n",
    "    y_train = Y[split:]\n",
    "    x_test = X[:split]\n",
    "    y_test = Y[:split]\n",
    "    del x_shuffle\n",
    "    del y_shuffle\n",
    "    x_train = x_train.reshape((x_train.shape[0], x_train.shape[1]))"
   ]
  },
  {
   "cell_type": "code",
   "execution_count": 170,
   "metadata": {
    "collapsed": true
   },
   "outputs": [],
   "source": [
    "def filter_other_data(X, Y):\n",
    "    X_filter, y_filter = [], []\n",
    "    for x, y in zip(X, Y):\n",
    "        y_lower = y.lower()\n",
    "        if (y_lower in ['a', 'b', 'c', 'v']):\n",
    "            X_filter.append(x)\n",
    "            y_filter.append(y_lower)\n",
    "    return X_filter, y_filter"
   ]
  },
  {
   "cell_type": "markdown",
   "metadata": {
    "collapsed": true
   },
   "source": [
    "    from os import listdir, walk\n",
    "    from os.path import isfile, join\n",
    "    def take_all_pictures_names(path):\n",
    "        paths = []\n",
    "        targets = []\n",
    "        for x in walk(path):\n",
    "            for y in x[2]:\n",
    "                if (y.find('depth') == -1):\n",
    "                    paths.append(x[0] + '/' + y)\n",
    "                    targets.append(x[0][len(x[0]) - 1:])\n",
    "        return paths, targets\n",
    "\n",
    "    def get_all_pictures(path, a, b):\n",
    "        X = []\n",
    "        y = []\n",
    "        names, targets = take_all_pictures_names(path)\n",
    "        for ind, (name, target) in enumerate(zip(names, targets)):\n",
    "            if (ind >= a and ind < b):\n",
    "                X.append(cv2.cvtColor(cv2.imread(names[i]), cv2.COLOR_BGR2RGB))\n",
    "                y.append(target)\n",
    "        return X, y\n",
    "\n",
    "    def get_pictures_in_range(path, ind_range):\n",
    "        X = []\n",
    "        y = []\n",
    "        names, targets = take_all_pictures_names(path)\n",
    "        count = 0\n",
    "        print('all_pictures on disk:', len(names))\n",
    "        for i in ind_range:\n",
    "            X.append(cv2.cvtColor(cv2.imread(names[i]), cv2.COLOR_BGR2RGB))\n",
    "            y.append(targets[i])\n",
    "            count += 1\n",
    "            if (count % 500 == 0):\n",
    "                print(count)\n",
    "        return X, y\n",
    "\n",
    "    def get_need_pictures_in_range(path, ind_range, need_list):\n",
    "        X = []\n",
    "        y = []\n",
    "        names, targets = take_all_pictures_names(path)\n",
    "        count = 0\n",
    "        print('all_pictures on disk:', len(names))\n",
    "        for i in ind_range:\n",
    "            if (targets[i] in need_list):\n",
    "                X.append(cv2.cvtColor(cv2.imread(names[i]), cv2.COLOR_BGR2RGB))\n",
    "                y.append(targets[i])\n",
    "                count += 1\n",
    "                if (count % 500 == 0):\n",
    "                    print(count)\n",
    "        return X, y\n",
    "\n",
    "    #Показать картинку\n",
    "    def show_picture(number):\n",
    "        print(y[number], X[number].shape)\n",
    "        plt.imshow(X[number])\n"
   ]
  },
  {
   "cell_type": "code",
   "execution_count": 172,
   "metadata": {
    "collapsed": true
   },
   "outputs": [],
   "source": [
    "def clear_background_precise(image):\n",
    "    imghsv = cv2.cvtColor(image,cv2.COLOR_BGR2HSV)\n",
    "    filter_from = np.array([110,80,80])\n",
    "    filter_to = np.array([150,255,255])\n",
    "    filtered = cv2.inRange(imghsv, filter_from, filter_to)\n",
    "    kernel_square = np.ones((8,8),np.uint8)\n",
    "    kernel_ellipse= cv2.getStructuringElement(cv2.MORPH_ELLIPSE,(5,5))\n",
    "    dilation = cv2.dilate(filtered,kernel_ellipse,iterations = 1)\n",
    "    erosion = cv2.erode(dilation,kernel_square,iterations = 1)    \n",
    "    dilation2 = cv2.dilate(erosion,kernel_ellipse,iterations = 1)    \n",
    "    filtered = cv2.medianBlur(dilation2,5)\n",
    "    kernel_ellipse= cv2.getStructuringElement(cv2.MORPH_ELLIPSE,(8,8))\n",
    "    dilation3 = cv2.dilate(filtered,kernel_ellipse,iterations = 1)\n",
    "    kernel_ellipse= cv2.getStructuringElement(cv2.MORPH_ELLIPSE,(5,5))\n",
    "    dilation4 = cv2.dilate(filtered,kernel_ellipse,iterations = 1)\n",
    "    median = cv2.medianBlur(dilation4,5)\n",
    "    ret,final = cv2.threshold(median,127,255,0)\n",
    "    #-------\n",
    "    BLACK = (0, 0, 0)\n",
    "    for i in range(final.shape[0]):\n",
    "        final[i][0] = 0\n",
    "        final[i][final.shape[1] - 1] = 0\n",
    "    for i in range(final.shape[1]):\n",
    "        final[0][i] = 0\n",
    "        final[final.shape[0] - 1][i] = 0\n",
    "    im2, contours, hierarchy = cv2.findContours(copy(final),cv2.RETR_TREE,cv2.CHAIN_APPROX_SIMPLE)\n",
    "    max_area = 0\n",
    "    num = 0\n",
    "    for i in range(len(contours)):\n",
    "        cnt = contours[i]\n",
    "        area = cv2.contourArea(cnt)\n",
    "        if(area > max_area):\n",
    "            max_area = area\n",
    "            num = i  \n",
    "    maxcnt = contours[num]\n",
    "    contours[num] = np.empty((0, 1, 2))\n",
    "    cv2.drawContours(final, contours, -1, BLACK, -1)\n",
    "    #----------------------\n",
    "    for i in range(image.shape[0]):\n",
    "        for j in range(image.shape[1]):\n",
    "            if not final[i][j]:\n",
    "                image[i][j] = BLACK\n",
    "    return image"
   ]
  },
  {
   "cell_type": "code",
   "execution_count": 173,
   "metadata": {
    "collapsed": true
   },
   "outputs": [],
   "source": [
    "def clear_background_rough(image):\n",
    "    imghsv = cv2.cvtColor(image,cv2.COLOR_BGR2HSV)\n",
    "    filter_from = np.array([110,80,80])\n",
    "    filter_to = np.array([150,255,255])\n",
    "    filtered = cv2.inRange(imghsv, filter_from, filter_to)\n",
    "    kernel_square = np.ones((8,8),np.uint8)\n",
    "    kernel_ellipse= cv2.getStructuringElement(cv2.MORPH_ELLIPSE,(5,5))\n",
    "    dilation = cv2.dilate(filtered,kernel_ellipse,iterations = 1)\n",
    "    erosion = cv2.erode(dilation,kernel_square,iterations = 1)    \n",
    "    dilation2 = cv2.dilate(erosion,kernel_ellipse,iterations = 1)    \n",
    "    filtered = cv2.medianBlur(dilation2,5)\n",
    "    kernel_ellipse= cv2.getStructuringElement(cv2.MORPH_ELLIPSE,(8,8))\n",
    "    dilation3 = cv2.dilate(filtered,kernel_ellipse,iterations = 1)\n",
    "    kernel_ellipse= cv2.getStructuringElement(cv2.MORPH_ELLIPSE,(5,5))\n",
    "    dilation4 = cv2.dilate(filtered,kernel_ellipse,iterations = 1)\n",
    "    median = cv2.medianBlur(dilation4,5)\n",
    "    ret,final = cv2.threshold(median,127,255,0)\n",
    "    #-------\n",
    "    BLACK = (0, 0, 0)\n",
    "    for i in range(final.shape[0]):\n",
    "        final[i][0] = 0\n",
    "        final[i][final.shape[1] - 1] = 0\n",
    "    for i in range(final.shape[1]):\n",
    "        final[0][i] = 0\n",
    "        final[final.shape[0] - 1][i] = 0\n",
    "    im2, contours, hierarchy = cv2.findContours(copy(final),cv2.RETR_TREE,cv2.CHAIN_APPROX_SIMPLE)\n",
    "    max_area = 0\n",
    "    num = 0\n",
    "    for i in range(len(contours)):\n",
    "        cnt = contours[i]\n",
    "        area = cv2.contourArea(cnt)\n",
    "        if(area > max_area):\n",
    "            max_area = area\n",
    "            num = i  \n",
    "    maxcnt = contours[num]\n",
    "    contours[num] = np.empty((0, 1, 2))\n",
    "    cv2.drawContours(final, contours, -1, BLACK, -1)\n",
    "    #-----------------\n",
    "    hull = cv2.convexHull(maxcnt)\n",
    "    cv2.drawContours(final, [hull], -1, (255,255,255), -1)\n",
    "    #----------------------\n",
    "    for i in range(image.shape[0]):\n",
    "        for j in range(image.shape[1]):\n",
    "            if not final[i][j]:\n",
    "                image[i][j] = BLACK\n",
    "    return image"
   ]
  },
  {
   "cell_type": "code",
   "execution_count": null,
   "metadata": {
    "collapsed": true
   },
   "outputs": [],
   "source": [
    "pca, svm = fit_get_score_pca_svm(x_train, y_train, x_test, y_test, n_comp=100, gamma=0.1)"
   ]
  },
  {
   "cell_type": "code",
   "execution_count": 19,
   "metadata": {},
   "outputs": [
    {
     "name": "stdout",
     "output_type": "stream",
     "text": [
      "all_pictures on disk: 4873\n",
      "500\n",
      "['A' 'B' 'C' 'V' 'e' 't']\n",
      "a\n",
      "(550, 8100) 550 ['a' 'b' 'c' 'v']\n"
     ]
    },
    {
     "data": {
      "text/plain": [
       "array(['b', 'b', 'b', 'b', 'b', 'b', 'b', 'b', 'b', 'b', 'b', 'b', 'b',\n",
       "       'b', 'b', 'b', 'b', 'b', 'b', 'b', 'b', 'b', 'b', 'b', 'b', 'b',\n",
       "       'b', 'b', 'b', 'b', 'b', 'b', 'b', 'b', 'b', 'b', 'b', 'b', 'b',\n",
       "       'b', 'b', 'b', 'b', 'b', 'b', 'b', 'b', 'b', 'b', 'b', 'b', 'b',\n",
       "       'b', 'b', 'b', 'b', 'b', 'b', 'b', 'b', 'b', 'b', 'b', 'b', 'b',\n",
       "       'b', 'b', 'b', 'b', 'b', 'b', 'b', 'b', 'b', 'b', 'b', 'b', 'b',\n",
       "       'b', 'b', 'b', 'b', 'b', 'b', 'b', 'b', 'b', 'b', 'b', 'b', 'b',\n",
       "       'b', 'b', 'b', 'b', 'b', 'b', 'b', 'v', 'v', 'v', 'v', 'v', 'v',\n",
       "       'v', 'v', 'v', 'v', 'v', 'v', 'v', 'v', 'v', 'v', 'v', 'v', 'v',\n",
       "       'v', 'v', 'v', 'v', 'v', 'v', 'v', 'v', 'v', 'v', 'v', 'v', 'v',\n",
       "       'v', 'v', 'v', 'v', 'v', 'v', 'v', 'v', 'v', 'v', 'v', 'v', 'v',\n",
       "       'v', 'v', 'v', 'v', 'v', 'v', 'v', 'v', 'v', 'v', 'v', 'v', 'v',\n",
       "       'v', 'v', 'v', 'v', 'v', 'v', 'v', 'v', 'v', 'v', 'v', 'v', 'v',\n",
       "       'v', 'v', 'v', 'v', 'v', 'v', 'v', 'v', 'v', 'v', 'v', 'v', 'v',\n",
       "       'v', 'v', 'v', 'a', 'a', 'a', 'a', 'a', 'a', 'a', 'a', 'a', 'a',\n",
       "       'a', 'a', 'a', 'a', 'a', 'a', 'a', 'a', 'a', 'a', 'a', 'a', 'a',\n",
       "       'a', 'a', 'a', 'a', 'a', 'a', 'a', 'a', 'a', 'a', 'a', 'a', 'a',\n",
       "       'a', 'a', 'a', 'a', 'a', 'a', 'a', 'a', 'a', 'a', 'a', 'a', 'a',\n",
       "       'a', 'a', 'a', 'a', 'a', 'a', 'a', 'a', 'a', 'a', 'a', 'a', 'a',\n",
       "       'a', 'a', 'a', 'a', 'a', 'a', 'a', 'a', 'a', 'a', 'a', 'a', 'a',\n",
       "       'a', 'a', 'a', 'a', 'a', 'a', 'a', 'a', 'a', 'a', 'a', 'a', 'a',\n",
       "       'a', 'a', 'a', 'a', 'a', 'a', 'a', 'a', 'a', 'a', 'a', 'a', 'a',\n",
       "       'a', 'a', 'a', 'a', 'a', 'a', 'a', 'a', 'a', 'a', 'a', 'a', 'a',\n",
       "       'a', 'a', 'a', 'a', 'a', 'a', 'a', 'a', 'a', 'a', 'a', 'a', 'a',\n",
       "       'a', 'a', 'a', 'a', 'a', 'a', 'a', 'a', 'a', 'a', 'a', 'a', 'a',\n",
       "       'a', 'a', 'a', 'a', 'a', 'a', 'a', 'a', 'a', 'a', 'a', 'a', 'a',\n",
       "       'a', 'a', 'a', 'a', 'a', 'a', 'a', 'a', 'a', 'a', 'a', 'a', 'a',\n",
       "       'a', 'a', 'a', 'a', 'a', 'a', 'a', 'a', 'a', 'a', 'a', 'a', 'a',\n",
       "       'a', 'a', 'a', 'a', 'a', 'a', 'a', 'a', 'a', 'a', 'a', 'a', 'a',\n",
       "       'a', 'a', 'a', 'a', 'a', 'a', 'a', 'a', 'a', 'a', 'a', 'a', 'a',\n",
       "       'a', 'a', 'a', 'a', 'a', 'a', 'a', 'a', 'a', 'a', 'a', 'a', 'a',\n",
       "       'a', 'a', 'a', 'a', 'a', 'a', 'a', 'a', 'a', 'a', 'a', 'a', 'a',\n",
       "       'a', 'a', 'a', 'a', 'a', 'a', 'a', 'a', 'a', 'a', 'a', 'a', 'a',\n",
       "       'a', 'a', 'a', 'a', 'a', 'a', 'a', 'a', 'a', 'a', 'a', 'a', 'a',\n",
       "       'a', 'a', 'a', 'a', 'a', 'a', 'a', 'a', 'c', 'c', 'c', 'c', 'c',\n",
       "       'c', 'c', 'c', 'c', 'c', 'c', 'c', 'c', 'c', 'c', 'c', 'c', 'c',\n",
       "       'c', 'c', 'c', 'c', 'c', 'c', 'c', 'c', 'c', 'c', 'c', 'c', 'c',\n",
       "       'c', 'c', 'c', 'c', 'c', 'c', 'c', 'c', 'c', 'c', 'c', 'c', 'c',\n",
       "       'c', 'c', 'c', 'c', 'c', 'c', 'c', 'c', 'c', 'c', 'c', 'c', 'c',\n",
       "       'c', 'c', 'c', 'c', 'c', 'c', 'c', 'c', 'c', 'c', 'c', 'c', 'c',\n",
       "       'c', 'c', 'c', 'c', 'c', 'c', 'c', 'c', 'c', 'c', 'c', 'c', 'c',\n",
       "       'c', 'c', 'c', 'c', 'c', 'c', 'c', 'c', 'c', 'c', 'c', 'c', 'c',\n",
       "       'c', 'c', 'c', 'c'],\n",
       "      dtype='<U1')"
      ]
     },
     "execution_count": 19,
     "metadata": {},
     "output_type": "execute_result"
    },
    {
     "data": {
      "image/png": "[encoded data removed]",
      "text/plain": [
       "<matplotlib.figure.Figure at 0x7fa21b5e2320>"
      ]
     },
     "metadata": {},
     "output_type": "display_data"
    }
   ],
   "source": [
    "X_other, y_other = get_pictures_in_range('DS_5letters_train/', range(1, 4800, 5))\n",
    "print(np.unique(y_other))\n",
    "X_filter_other, y_filter_other = filter_other_data(X_other, y_other)\n",
    "X_other = X_filter_other\n",
    "y_other = y_filter_other\n",
    "\n",
    "print(y_filter_other[300])\n",
    "plt.imshow(X_filter_other[300])\n",
    "\n",
    "size = 128\n",
    "X_other = np.array([cv2.resize(x, (size, size)) for x in X_other])\n",
    "X_other_p = X_other.reshape((len(X_other), size * size * 3))\n",
    "X_other_p = np.array([hog_descriptor.compute(Im) for Im in X_other])\n",
    "X_other_p = X_other_p.reshape((X_other_p.shape[0], X_other_p.shape[1]))\n",
    "y_other = np.array(y_other)\n",
    "print(X_other_p.shape, len(y_other), np.unique(y_other))"
   ]
  },
  {
   "cell_type": "code",
   "execution_count": null,
   "metadata": {},
   "outputs": [],
   "source": [
    "get_score_pca_svm(pca, svm, X_other_p, y_other)"
   ]
  },
  {
   "cell_type": "code",
   "execution_count": 195,
   "metadata": {},
   "outputs": [
    {
     "name": "stderr",
     "output_type": "stream",
     "text": [
      "/home/grach/.virtualenvs/cv/lib/python3.5/site-packages/ipykernel_launcher.py:2: DeprecationWarning: elementwise == comparison failed; this will raise an error in the future.\n",
      "  \n"
     ]
    },
    {
     "data": {
      "text/plain": [
       "<matplotlib.image.AxesImage at 0x7fa20a303208>"
      ]
     },
     "execution_count": 195,
     "metadata": {},
     "output_type": "execute_result"
    },
    {
     "data": {
      "image/png": "[encoded data removed]",
      "text/plain": [
       "<matplotlib.figure.Figure at 0x7fa20a3a8710>"
      ]
     },
     "metadata": {},
     "output_type": "display_data"
    }
   ],
   "source": [
    "#Im == cv2.resize(cv2.cvtColor(cv2.imread(\"DS_5letters_train/A/A-train23.jpg\"), cv2.COLOR_BGR2RGB), (128, 128))\n",
    "Im == cv2.cvtColor(cv2.imread(\"DS_5letters_train/A/A-train25.jpg\"), cv2.COLOR_BGR2RGB)\n",
    "Im == clear_background_rough(Im)\n",
    "plt.imshow(Im)"
   ]
  },
  {
   "cell_type": "code",
   "execution_count": 197,
   "metadata": {
    "collapsed": true
   },
   "outputs": [],
   "source": [
    "speakers1 = ['A', 'B', 'C', 'D', 'E']\n",
    "speakers2 = ['A', 'B', 'C', 'D', 'E', 'F', 'G']\n",
    "letters = ['a', 'c', 'h', 'v', 'y']"
   ]
  },
  {
   "cell_type": "code",
   "execution_count": null,
   "metadata": {
    "collapsed": true
   },
   "outputs": [],
   "source": []
  }
 ],
 "metadata": {
  "kernelspec": {
   "display_name": "Python 3",
   "language": "python",
   "name": "python3"
  },
  "language_info": {
   "codemirror_mode": {
    "name": "ipython",
    "version": 3
   },
   "file_extension": ".py",
   "mimetype": "text/x-python",
   "name": "python",
   "nbconvert_exporter": "python",
   "pygments_lexer": "ipython3",
   "version": "3.5.2"
  }
 },
 "nbformat": 4,
 "nbformat_minor": 2
}
