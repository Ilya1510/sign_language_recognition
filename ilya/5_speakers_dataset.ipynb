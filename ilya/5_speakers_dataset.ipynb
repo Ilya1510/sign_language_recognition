{
 "cells": [
  {
   "cell_type": "code",
   "execution_count": 58,
   "metadata": {
    "collapsed": true
   },
   "outputs": [],
   "source": [
    "# Загружаем картинки\n",
    "from os import listdir, walk\n",
    "from os.path import isfile, join\n",
    "def take_all_pictures_names(path):\n",
    "    paths = []\n",
    "    targets = []\n",
    "    for x in walk(path):\n",
    "        print(x[0])\n",
    "        for y in x[2]:\n",
    "            paths.append(x[0] + '/' + y)\n",
    "            targets.append(x[0][len(x[0]) - 1:])\n",
    "    return paths, targets\n",
    "\n",
    "def get_all_pictures(path, count=-1):\n",
    "    names, targets = take_all_pictures_names(path)\n",
    "    X = []\n",
    "    for name in names:\n",
    "        X.append(plt.imread(name))\n",
    "        if (len(X) == count):\n",
    "            break\n",
    "    return X, targets\n",
    "\n",
    "def show_picture(number):\n",
    "    print(y[number], X[number].shape)\n",
    "    plt.imshow(X[number])"
   ]
  },
  {
   "cell_type": "code",
   "execution_count": 42,
   "metadata": {
    "collapsed": false
   },
   "outputs": [],
   "source": [
    "import numpy as np\n",
    "import pandas as pd\n",
    "from matplotlib import pyplot as plt\n",
    "from keras.models import Sequential\n",
    "from keras.layers import Dense\n",
    "from keras.utils import np_utils\n",
    "from keras.datasets import mnist\n",
    "%matplotlib inline"
   ]
  },
  {
   "cell_type": "code",
   "execution_count": 45,
   "metadata": {
    "collapsed": false
   },
   "outputs": [
    {
     "name": "stdout",
     "output_type": "stream",
     "text": [
      "/media/ilya/DATA/sign_recognition_data/dataset5/\n",
      "/media/ilya/DATA/sign_recognition_data/dataset5/A\n",
      "/media/ilya/DATA/sign_recognition_data/dataset5/A/a\n",
      "/media/ilya/DATA/sign_recognition_data/dataset5/A/b\n",
      "/media/ilya/DATA/sign_recognition_data/dataset5/A/c\n",
      "/media/ilya/DATA/sign_recognition_data/dataset5/A/d\n",
      "/media/ilya/DATA/sign_recognition_data/dataset5/A/e\n",
      "/media/ilya/DATA/sign_recognition_data/dataset5/A/f\n",
      "/media/ilya/DATA/sign_recognition_data/dataset5/A/g\n",
      "/media/ilya/DATA/sign_recognition_data/dataset5/A/h\n",
      "/media/ilya/DATA/sign_recognition_data/dataset5/A/i\n",
      "/media/ilya/DATA/sign_recognition_data/dataset5/A/k\n",
      "/media/ilya/DATA/sign_recognition_data/dataset5/A/l\n",
      "/media/ilya/DATA/sign_recognition_data/dataset5/A/m\n",
      "/media/ilya/DATA/sign_recognition_data/dataset5/A/n\n",
      "/media/ilya/DATA/sign_recognition_data/dataset5/A/o\n",
      "/media/ilya/DATA/sign_recognition_data/dataset5/A/p\n",
      "/media/ilya/DATA/sign_recognition_data/dataset5/A/q\n",
      "/media/ilya/DATA/sign_recognition_data/dataset5/A/r\n",
      "/media/ilya/DATA/sign_recognition_data/dataset5/A/s\n",
      "/media/ilya/DATA/sign_recognition_data/dataset5/A/t\n",
      "/media/ilya/DATA/sign_recognition_data/dataset5/A/u\n",
      "/media/ilya/DATA/sign_recognition_data/dataset5/A/v\n",
      "/media/ilya/DATA/sign_recognition_data/dataset5/A/w\n",
      "/media/ilya/DATA/sign_recognition_data/dataset5/A/x\n",
      "/media/ilya/DATA/sign_recognition_data/dataset5/A/y\n",
      "/media/ilya/DATA/sign_recognition_data/dataset5/B\n",
      "/media/ilya/DATA/sign_recognition_data/dataset5/B/a\n",
      "/media/ilya/DATA/sign_recognition_data/dataset5/B/b\n",
      "/media/ilya/DATA/sign_recognition_data/dataset5/B/c\n",
      "/media/ilya/DATA/sign_recognition_data/dataset5/B/d\n",
      "/media/ilya/DATA/sign_recognition_data/dataset5/B/e\n",
      "/media/ilya/DATA/sign_recognition_data/dataset5/B/f\n",
      "/media/ilya/DATA/sign_recognition_data/dataset5/B/g\n",
      "/media/ilya/DATA/sign_recognition_data/dataset5/B/h\n",
      "/media/ilya/DATA/sign_recognition_data/dataset5/B/i\n",
      "/media/ilya/DATA/sign_recognition_data/dataset5/B/k\n",
      "/media/ilya/DATA/sign_recognition_data/dataset5/B/l\n",
      "/media/ilya/DATA/sign_recognition_data/dataset5/B/m\n",
      "/media/ilya/DATA/sign_recognition_data/dataset5/B/n\n",
      "/media/ilya/DATA/sign_recognition_data/dataset5/B/o\n",
      "/media/ilya/DATA/sign_recognition_data/dataset5/B/p\n",
      "/media/ilya/DATA/sign_recognition_data/dataset5/B/q\n",
      "/media/ilya/DATA/sign_recognition_data/dataset5/B/r\n",
      "/media/ilya/DATA/sign_recognition_data/dataset5/B/s\n",
      "/media/ilya/DATA/sign_recognition_data/dataset5/B/t\n",
      "/media/ilya/DATA/sign_recognition_data/dataset5/B/u\n",
      "/media/ilya/DATA/sign_recognition_data/dataset5/B/v\n",
      "/media/ilya/DATA/sign_recognition_data/dataset5/B/w\n",
      "/media/ilya/DATA/sign_recognition_data/dataset5/B/x\n",
      "/media/ilya/DATA/sign_recognition_data/dataset5/B/y\n",
      "/media/ilya/DATA/sign_recognition_data/dataset5/C\n",
      "/media/ilya/DATA/sign_recognition_data/dataset5/C/a\n",
      "/media/ilya/DATA/sign_recognition_data/dataset5/C/b\n",
      "/media/ilya/DATA/sign_recognition_data/dataset5/C/c\n",
      "/media/ilya/DATA/sign_recognition_data/dataset5/C/d\n",
      "/media/ilya/DATA/sign_recognition_data/dataset5/C/e\n",
      "/media/ilya/DATA/sign_recognition_data/dataset5/C/f\n",
      "/media/ilya/DATA/sign_recognition_data/dataset5/C/g\n",
      "/media/ilya/DATA/sign_recognition_data/dataset5/C/h\n",
      "/media/ilya/DATA/sign_recognition_data/dataset5/C/i\n",
      "/media/ilya/DATA/sign_recognition_data/dataset5/C/k\n",
      "/media/ilya/DATA/sign_recognition_data/dataset5/C/l\n",
      "/media/ilya/DATA/sign_recognition_data/dataset5/C/m\n",
      "/media/ilya/DATA/sign_recognition_data/dataset5/C/n\n",
      "/media/ilya/DATA/sign_recognition_data/dataset5/C/o\n",
      "/media/ilya/DATA/sign_recognition_data/dataset5/C/p\n",
      "/media/ilya/DATA/sign_recognition_data/dataset5/C/q\n",
      "/media/ilya/DATA/sign_recognition_data/dataset5/C/r\n",
      "/media/ilya/DATA/sign_recognition_data/dataset5/C/s\n",
      "/media/ilya/DATA/sign_recognition_data/dataset5/C/t\n",
      "/media/ilya/DATA/sign_recognition_data/dataset5/C/u\n",
      "/media/ilya/DATA/sign_recognition_data/dataset5/C/v\n",
      "/media/ilya/DATA/sign_recognition_data/dataset5/C/w\n",
      "/media/ilya/DATA/sign_recognition_data/dataset5/C/x\n",
      "/media/ilya/DATA/sign_recognition_data/dataset5/C/y\n",
      "/media/ilya/DATA/sign_recognition_data/dataset5/D\n",
      "/media/ilya/DATA/sign_recognition_data/dataset5/D/a\n",
      "/media/ilya/DATA/sign_recognition_data/dataset5/D/b\n",
      "/media/ilya/DATA/sign_recognition_data/dataset5/D/c\n",
      "/media/ilya/DATA/sign_recognition_data/dataset5/D/d\n",
      "/media/ilya/DATA/sign_recognition_data/dataset5/D/e\n",
      "/media/ilya/DATA/sign_recognition_data/dataset5/D/f\n",
      "/media/ilya/DATA/sign_recognition_data/dataset5/D/g\n",
      "/media/ilya/DATA/sign_recognition_data/dataset5/D/h\n",
      "/media/ilya/DATA/sign_recognition_data/dataset5/D/i\n",
      "/media/ilya/DATA/sign_recognition_data/dataset5/D/k\n",
      "/media/ilya/DATA/sign_recognition_data/dataset5/D/l\n",
      "/media/ilya/DATA/sign_recognition_data/dataset5/D/m\n",
      "/media/ilya/DATA/sign_recognition_data/dataset5/D/n\n",
      "/media/ilya/DATA/sign_recognition_data/dataset5/D/o\n",
      "/media/ilya/DATA/sign_recognition_data/dataset5/D/p\n",
      "/media/ilya/DATA/sign_recognition_data/dataset5/D/q\n",
      "/media/ilya/DATA/sign_recognition_data/dataset5/D/r\n",
      "/media/ilya/DATA/sign_recognition_data/dataset5/D/s\n",
      "/media/ilya/DATA/sign_recognition_data/dataset5/D/t\n",
      "/media/ilya/DATA/sign_recognition_data/dataset5/D/u\n",
      "/media/ilya/DATA/sign_recognition_data/dataset5/D/v\n",
      "/media/ilya/DATA/sign_recognition_data/dataset5/D/w\n",
      "/media/ilya/DATA/sign_recognition_data/dataset5/D/x\n",
      "/media/ilya/DATA/sign_recognition_data/dataset5/D/y\n",
      "/media/ilya/DATA/sign_recognition_data/dataset5/E\n",
      "/media/ilya/DATA/sign_recognition_data/dataset5/E/a\n",
      "/media/ilya/DATA/sign_recognition_data/dataset5/E/b\n",
      "/media/ilya/DATA/sign_recognition_data/dataset5/E/c\n",
      "/media/ilya/DATA/sign_recognition_data/dataset5/E/d\n",
      "/media/ilya/DATA/sign_recognition_data/dataset5/E/e\n",
      "/media/ilya/DATA/sign_recognition_data/dataset5/E/f\n",
      "/media/ilya/DATA/sign_recognition_data/dataset5/E/g\n",
      "/media/ilya/DATA/sign_recognition_data/dataset5/E/h\n",
      "/media/ilya/DATA/sign_recognition_data/dataset5/E/i\n",
      "/media/ilya/DATA/sign_recognition_data/dataset5/E/k\n",
      "/media/ilya/DATA/sign_recognition_data/dataset5/E/l\n",
      "/media/ilya/DATA/sign_recognition_data/dataset5/E/m\n",
      "/media/ilya/DATA/sign_recognition_data/dataset5/E/n\n",
      "/media/ilya/DATA/sign_recognition_data/dataset5/E/o\n",
      "/media/ilya/DATA/sign_recognition_data/dataset5/E/p\n",
      "/media/ilya/DATA/sign_recognition_data/dataset5/E/q\n",
      "/media/ilya/DATA/sign_recognition_data/dataset5/E/r\n",
      "/media/ilya/DATA/sign_recognition_data/dataset5/E/s\n",
      "/media/ilya/DATA/sign_recognition_data/dataset5/E/t\n",
      "/media/ilya/DATA/sign_recognition_data/dataset5/E/u\n",
      "/media/ilya/DATA/sign_recognition_data/dataset5/E/v\n",
      "/media/ilya/DATA/sign_recognition_data/dataset5/E/w\n",
      "/media/ilya/DATA/sign_recognition_data/dataset5/E/x\n",
      "/media/ilya/DATA/sign_recognition_data/dataset5/E/y\n",
      "CPU times: user 3.6 s, sys: 244 ms, total: 3.85 s\n",
      "Wall time: 4.14 s\n"
     ]
    }
   ],
   "source": [
    "%time X, y = get_all_pictures('/media/ilya/DATA/sign_recognition_data/dataset5/', 5000)"
   ]
  },
  {
   "cell_type": "code",
   "execution_count": 57,
   "metadata": {
    "collapsed": false
   },
   "outputs": [
    {
     "name": "stdout",
     "output_type": "stream",
     "text": [
      "e (127, 75, 3)\n"
     ]
    },
    {
     "data": {
      "image/png": "[encoded data removed]",
      "text/plain": [
       "<matplotlib.figure.Figure at 0x7f49121c8748>"
      ]
     },
     "metadata": {},
     "output_type": "display_data"
    }
   ],
   "source": [
    "show_picture(4300)"
   ]
  },
  {
   "cell_type": "code",
   "execution_count": 49,
   "metadata": {
    "collapsed": false
   },
   "outputs": [],
   "source": []
  },
  {
   "cell_type": "code",
   "execution_count": null,
   "metadata": {
    "collapsed": true
   },
   "outputs": [],
   "source": []
  }
 ],
 "metadata": {
  "kernelspec": {
   "display_name": "Python 3",
   "language": "python",
   "name": "python3"
  },
  "language_info": {
   "codemirror_mode": {
    "name": "ipython",
    "version": 3
   },
   "file_extension": ".py",
   "mimetype": "text/x-python",
   "name": "python",
   "nbconvert_exporter": "python",
   "pygments_lexer": "ipython3",
   "version": "3.6.0"
  }
 },
 "nbformat": 4,
 "nbformat_minor": 2
}
