{
 "cells": [
  {
   "cell_type": "code",
   "execution_count": 165,
   "metadata": {
    "collapsed": false
   },
   "outputs": [],
   "source": [
    "# Загружаем картинки\n",
    "from os import listdir, walk\n",
    "from os.path import isfile, join\n",
    "def take_all_pictures_names(path):\n",
    "    paths = []\n",
    "    targets = []\n",
    "    for x in walk(path):\n",
    "        for y in x[2]:\n",
    "            if (y.find('depth') == -1):\n",
    "                paths.append(x[0] + '/' + y)\n",
    "                targets.append(x[0][len(x[0]) - 1:])\n",
    "    return paths, targets\n",
    "\n",
    "def get_all_pictures(path, a, b):\n",
    "    X = []\n",
    "    y = []\n",
    "    names, targets = take_all_pictures_names(path)\n",
    "    for ind, (name, target) in enumerate(zip(names, targets)):\n",
    "        if (ind >= a and ind < b):\n",
    "            X.append(plt.imread(name))\n",
    "            y.append(target)\n",
    "    return X, y\n",
    "\n",
    "def get_pictures_in_range(path, ind_range):\n",
    "    X = []\n",
    "    y = []\n",
    "    names, targets = take_all_pictures_names(path)\n",
    "    count = 0\n",
    "    print('all_pictures on disk:', len(names))\n",
    "    for i in ind_range:\n",
    "        X.append(plt.imread(names[i]))\n",
    "        y.append(targets[i])\n",
    "        count += 1\n",
    "        if (count % 500 == 0):\n",
    "            print(count)\n",
    "    return X, y\n",
    "\n",
    "#Показать картинку\n",
    "def show_picture(number):\n",
    "    print(y[number], X[number].shape)\n",
    "    plt.imshow(X[number])\n",
    "    \n",
    "# Меняем размер картинки\n",
    "from skimage.transform import resize\n",
    "def resize_picture(img, shape):\n",
    "    return resize(img, shape, mode='constant')"
   ]
  },
  {
   "cell_type": "code",
   "execution_count": 79,
   "metadata": {
    "collapsed": false
   },
   "outputs": [],
   "source": [
    "import numpy as np\n",
    "import pandas as pd\n",
    "from matplotlib import pyplot as plt\n",
    "from keras.models import Sequential\n",
    "from keras.layers import Dense\n",
    "from keras.utils import np_utils\n",
    "from keras.datasets import mnist\n",
    "%matplotlib inline"
   ]
  },
  {
   "cell_type": "markdown",
   "metadata": {},
   "source": [
    "## Получим хоть какой-то кусочек данных"
   ]
  },
  {
   "cell_type": "code",
   "execution_count": 82,
   "metadata": {
    "collapsed": false
   },
   "outputs": [
    {
     "name": "stdout",
     "output_type": "stream",
     "text": [
      "CPU times: user 10.3 s, sys: 816 ms, total: 11.1 s\n",
      "Wall time: 54.9 s\n"
     ]
    }
   ],
   "source": [
    "# Так можно загружать даннные в X, y\n",
    "%time X, y = get_pictures_in_range('/media/ilya/DATA/sign_recognition_data/dataset5/', range(1, 40000, 8))"
   ]
  },
  {
   "cell_type": "code",
   "execution_count": 90,
   "metadata": {
    "collapsed": false
   },
   "outputs": [
    {
     "name": "stdout",
     "output_type": "stream",
     "text": [
      "5000 1000\n"
     ]
    }
   ],
   "source": [
    "print(len(X), len(X_test))"
   ]
  },
  {
   "cell_type": "code",
   "execution_count": null,
   "metadata": {
    "collapsed": true
   },
   "outputs": [],
   "source": [
    "# Довольно оптимистичный тест, потому что кадры очень близки\n",
    "%time X_test, y_test = get_pictures_in_range('/media/ilya/DATA/sign_recognition_data/dataset5/', range(4, 40000, 40))"
   ]
  },
  {
   "cell_type": "code",
   "execution_count": 88,
   "metadata": {
    "collapsed": true
   },
   "outputs": [],
   "source": [
    "X_test = np.array([resize_picture(x, (60, 60, 3)) for x in X_test])"
   ]
  },
  {
   "cell_type": "code",
   "execution_count": 91,
   "metadata": {
    "collapsed": false
   },
   "outputs": [],
   "source": [
    "X_p_test = X_test.reshape(1000, 60 * 60 * 3)\n",
    "X_p = X.reshape(5000, 60 * 60 * 3)"
   ]
  },
  {
   "cell_type": "code",
   "execution_count": 92,
   "metadata": {
    "collapsed": false
   },
   "outputs": [],
   "source": [
    "# Изменим размер всей картинок на (60, 60, 3)\n",
    "X = [resize_picture(x, (60, 60, 3)) for x in X]"
   ]
  },
  {
   "cell_type": "code",
   "execution_count": 93,
   "metadata": {
    "collapsed": false
   },
   "outputs": [
    {
     "name": "stdout",
     "output_type": "stream",
     "text": [
      "o (60, 60, 3)\n"
     ]
    },
    {
     "data": {
      "image/png": "[encoded data removed]",
      "text/plain": [
       "<matplotlib.figure.Figure at 0x7f1e00654b00>"
      ]
     },
     "metadata": {},
     "output_type": "display_data"
    }
   ],
   "source": [
    "show_picture(900)"
   ]
  },
  {
   "cell_type": "code",
   "execution_count": 94,
   "metadata": {
    "collapsed": false
   },
   "outputs": [
    {
     "data": {
      "text/plain": [
       "(5000, 60, 60, 3)"
      ]
     },
     "execution_count": 94,
     "metadata": {},
     "output_type": "execute_result"
    }
   ],
   "source": [
    "X = np.array(X)\n",
    "X.shape"
   ]
  },
  {
   "cell_type": "markdown",
   "metadata": {},
   "source": [
    "## Теперь данные из совсем другого датасета"
   ]
  },
  {
   "cell_type": "code",
   "execution_count": 206,
   "metadata": {
    "collapsed": true
   },
   "outputs": [],
   "source": [
    "def filter_other_data(X, Y):\n",
    "    X_filter, y_filter = [], []\n",
    "    for x, y in zip(X, Y):\n",
    "        y_lower = y.lower()\n",
    "        if (y_lower in ['a', 'b', 'c', 'v']):\n",
    "            X_filter.append(x)\n",
    "            y_filter.append(y_lower)\n",
    "    return X_filter, y_filter"
   ]
  },
  {
   "cell_type": "code",
   "execution_count": 212,
   "metadata": {
    "collapsed": false
   },
   "outputs": [
    {
     "name": "stdout",
     "output_type": "stream",
     "text": [
      "all_pictures: 4873\n",
      "500\n",
      "CPU times: user 404 ms, sys: 16 ms, total: 420 ms\n",
      "Wall time: 417 ms\n",
      "['A' 'B' 'C' 'V' 'e' 't']\n",
      "c\n",
      "(565, 10800) 565\n"
     ]
    },
    {
     "data": {
      "image/png": "[encoded data removed]",
      "text/plain": [
       "<matplotlib.figure.Figure at 0x7f1df9c23358>"
      ]
     },
     "metadata": {},
     "output_type": "display_data"
    }
   ],
   "source": [
    "%time X_other, y_other = get_pictures_in_range('../Training/', range(1, 4800, 5))\n",
    "print(np.unique(y_other))\n",
    "\n",
    "X_filter_other, y_filter_other = filter_other_data(X_other, y_other)\n",
    "X_other = X_filter_other\n",
    "y_other = y_filter_other\n",
    "\n",
    "print(y_filter_other[300])\n",
    "plt.imshow(X_filter_other[300])\n",
    "\n",
    "X_other = np.array([resize_picture(x, (60, 60, 3)) for x in X_other])\n",
    "X_other_p = X_other.reshape((len(X_other), 60 * 60 * 3))\n",
    "print(X_other_p.shape, len(y_other))"
   ]
  },
  {
   "cell_type": "markdown",
   "metadata": {},
   "source": [
    "### Здесь будет предобработка данных"
   ]
  },
  {
   "cell_type": "code",
   "execution_count": null,
   "metadata": {
    "collapsed": true
   },
   "outputs": [],
   "source": []
  },
  {
   "cell_type": "markdown",
   "metadata": {},
   "source": [
    "# PCA and SVM"
   ]
  },
  {
   "cell_type": "code",
   "execution_count": 200,
   "metadata": {
    "collapsed": false
   },
   "outputs": [],
   "source": [
    "from sklearn.svm import SVC\n",
    "from sklearn.decomposition import PCA\n",
    "\n",
    "def fit_pca(X, n_comp):\n",
    "    pca = PCA(n_components=n_comp)\n",
    "    return pca.fit(X)\n",
    "\n",
    "def fit_svm(X, y, C, gamma):\n",
    "    svm = SVC(C = C, random_state=241, gamma=gamma)\n",
    "    return svm.fit(X, y)\n",
    "\n",
    "def fit_pca_svm(X, y, n_comp=100, C = 2, gamma=0.0001):\n",
    "    pca = fit_pca(X, n_comp=n_comp)\n",
    "    smv = fit_svm(pca.transform(X), y, C = C, gamma=gamma)\n",
    "    return (pca, svm)\n",
    "\n",
    "def fit_get_score_pca_svm(X, y, X_test, y_test, n_comp, C, gamma):\n",
    "    pca = fit_pca(X, n_comp=n_comp)\n",
    "    X_tr = pca.transform(X)\n",
    "    X_test_tr = pca.transform(X_test)\n",
    "    print(pca.explained_variance_ratio_[:min(n_comp, 20)])\n",
    "    \n",
    "    svm = fit_svm(X_tr, y, C = C, gamma = gamma)\n",
    "    print(svm)\n",
    "    print('support vectors count:', len(svm.support_))\n",
    "    print('train score:', accuracy_score(y, svm.predict(X_tr)))\n",
    "    print('test score:', accuracy_score(y_test, svm.predict(X_test_tr)))\n",
    "    \n",
    "    return (pca, svm)\n",
    "\n",
    "def get_score_pca_svm(pca, svm, X, y):\n",
    "    X_tr = pca.transform(X)\n",
    "    y_pred = svm.predict(X_tr)\n",
    "    return accuracy_score(y, y_pred)"
   ]
  },
  {
   "cell_type": "code",
   "execution_count": 214,
   "metadata": {
    "collapsed": false
   },
   "outputs": [
    {
     "name": "stdout",
     "output_type": "stream",
     "text": [
      "[ 0.20346227  0.08636973  0.06467943  0.04687693  0.03357617  0.02995818\n",
      "  0.02523407  0.01991529  0.01853299  0.0163469   0.01458185  0.01408894\n",
      "  0.01332348  0.01175724  0.01082084  0.00993546  0.00879874  0.00828689\n",
      "  0.00749354  0.00726734]\n",
      "SVC(C=2, cache_size=200, class_weight=None, coef0=0.0,\n",
      "  decision_function_shape=None, degree=3, gamma=0.0001, kernel='rbf',\n",
      "  max_iter=-1, probability=False, random_state=241, shrinking=True,\n",
      "  tol=0.001, verbose=False)\n",
      "support vectors count: 4787\n",
      "train score: 0.742\n",
      "test score: 0.704\n",
      "CPU times: user 1min 5s, sys: 80 ms, total: 1min 5s\n",
      "Wall time: 53.2 s\n",
      "other dataset: 0.129203539823\n"
     ]
    }
   ],
   "source": [
    "%time pca1, svm1 = fit_get_score_pca_svm(X_p, y, X_p_test, y_test, n_comp=500, C = 2, gamma=0.0001)\n",
    "\n",
    "print('other dataset:', get_score_pca_svm(pca1, svm1, X_other_p, y_other))"
   ]
  },
  {
   "cell_type": "code",
   "execution_count": 202,
   "metadata": {
    "collapsed": false
   },
   "outputs": [
    {
     "data": {
      "text/plain": [
       "SVC(C=2, cache_size=200, class_weight=None, coef0=0.0,\n",
       "  decision_function_shape=None, degree=3, gamma=0.0001, kernel='rbf',\n",
       "  max_iter=-1, probability=False, random_state=241, shrinking=True,\n",
       "  tol=0.001, verbose=False)"
      ]
     },
     "execution_count": 202,
     "metadata": {},
     "output_type": "execute_result"
    }
   ],
   "source": [
    "svm1"
   ]
  },
  {
   "cell_type": "code",
   "execution_count": null,
   "metadata": {
    "collapsed": true
   },
   "outputs": [],
   "source": []
  }
 ],
 "metadata": {
  "kernelspec": {
   "display_name": "Python 3",
   "language": "python",
   "name": "python3"
  },
  "language_info": {
   "codemirror_mode": {
    "name": "ipython",
    "version": 3
   },
   "file_extension": ".py",
   "mimetype": "text/x-python",
   "name": "python",
   "nbconvert_exporter": "python",
   "pygments_lexer": "ipython3",
   "version": "3.6.0"
  }
 },
 "nbformat": 4,
 "nbformat_minor": 2
}
